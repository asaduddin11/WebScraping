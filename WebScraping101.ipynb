{
  "nbformat": 4,
  "nbformat_minor": 0,
  "metadata": {
    "colab": {
      "name": "WebScraping101.ipynb",
      "provenance": [],
      "collapsed_sections": [],
      "authorship_tag": "ABX9TyPuyR0A3gROXX/6kX9ikLD2",
      "include_colab_link": true
    },
    "kernelspec": {
      "name": "python3",
      "display_name": "Python 3"
    }
  },
  "cells": [
    {
      "cell_type": "markdown",
      "metadata": {
        "id": "view-in-github",
        "colab_type": "text"
      },
      "source": [
        "<a href=\"https://colab.research.google.com/github/asaduddin11/WebScraping/blob/Dev/WebScraping101.ipynb\" target=\"_parent\"><img src=\"https://colab.research.google.com/assets/colab-badge.svg\" alt=\"Open In Colab\"/></a>"
      ]
    },
    {
      "cell_type": "code",
      "metadata": {
        "id": "Jlhcn3n1I16v",
        "colab_type": "code",
        "colab": {}
      },
      "source": [
        "import requests\n",
        "import urllib.request \n",
        "import time\n",
        "from bs4 import BeautifulSoup\n",
        "import pandas as pd"
      ],
      "execution_count": 0,
      "outputs": []
    },
    {
      "cell_type": "code",
      "metadata": {
        "id": "zB7OljL6JqNr",
        "colab_type": "code",
        "colab": {}
      },
      "source": [
        "idea_description = []\n",
        "idea_title = []\n",
        "idea_link = []\n",
        "for i in range(1,4):\n",
        "  url = 'https://stories.inventhelp.com/page/' + str(i)  \n",
        "  response = requests.get(url)\n",
        "  time.sleep(1)\n",
        "  soup = BeautifulSoup(response.text, \"html.parser\")\n",
        "  all_a_tag = soup.findAll(\"a\", {\"class\": \"view-article buttonSm\"})\n",
        "  for j in range(0,len(all_a_tag)):\n",
        "    story_response = requests.get(all_a_tag[j]['href'])\n",
        "    story_soup = BeautifulSoup(story_response.text, \"html.parser\")\n",
        "    idea_description.append([p.getText() for p in story_soup.find_all('p')[3:-3]][0])\n",
        "    idea_link.append(all_a_tag[j]['href'])\n",
        "    idea_title.append(story_soup.find_all('h1')[0].getText())\n",
        "\n",
        "idea_data = pd.DataFrame({'IdeaDescription': idea_description,\n",
        "                         'IdeaTitle': idea_title,\n",
        "                         'IdeaLink': idea_link})\n",
        "\n",
        "writer = pd.ExcelWriter('ideas.xlsx')\n",
        "idea_data.to_excel(writer, 'Ideas')\n",
        "writer.save()\n",
        "      \n",
        "    \n"
      ],
      "execution_count": 0,
      "outputs": []
    },
    {
      "cell_type": "code",
      "metadata": {
        "id": "N0AKDu-N8rD-",
        "colab_type": "code",
        "colab": {
          "base_uri": "https://localhost:8080/",
          "height": 700
        },
        "outputId": "14f9c643-778e-4a1a-8a49-ed1d0de2a7fd"
      },
      "source": [
        "df = pd.read_excel('/content/ideas.xlsx')\n",
        "df"
      ],
      "execution_count": 64,
      "outputs": [
        {
          "output_type": "execute_result",
          "data": {
            "text/html": [
              "<div>\n",
              "<style scoped>\n",
              "    .dataframe tbody tr th:only-of-type {\n",
              "        vertical-align: middle;\n",
              "    }\n",
              "\n",
              "    .dataframe tbody tr th {\n",
              "        vertical-align: top;\n",
              "    }\n",
              "\n",
              "    .dataframe thead th {\n",
              "        text-align: right;\n",
              "    }\n",
              "</style>\n",
              "<table border=\"1\" class=\"dataframe\">\n",
              "  <thead>\n",
              "    <tr style=\"text-align: right;\">\n",
              "      <th></th>\n",
              "      <th>Unnamed: 0</th>\n",
              "      <th>IdeaDescription</th>\n",
              "      <th>IdeaTitle</th>\n",
              "      <th>IdeaLink</th>\n",
              "    </tr>\n",
              "  </thead>\n",
              "  <tbody>\n",
              "    <tr>\n",
              "      <th>0</th>\n",
              "      <td>0</td>\n",
              "      <td>InventHelp – Intromark is pleased to announce ...</td>\n",
              "      <td>Pike’s Buck Tail Hair Trimmer</td>\n",
              "      <td>https://stories.inventhelp.com/pikes-buck-tail...</td>\n",
              "    </tr>\n",
              "    <tr>\n",
              "      <th>1</th>\n",
              "      <td>1</td>\n",
              "      <td>InventHelp-Intromark is pleased to announce th...</td>\n",
              "      <td>Lenart Trim/Molding Puller</td>\n",
              "      <td>https://stories.inventhelp.com/lenart-trimmold...</td>\n",
              "    </tr>\n",
              "    <tr>\n",
              "      <th>2</th>\n",
              "      <td>2</td>\n",
              "      <td>Marcel Villeneuve’s toilet seat just wouldn’t ...</td>\n",
              "      <td>Toilet Seat Holder</td>\n",
              "      <td>https://stories.inventhelp.com/toilet-seat-hol...</td>\n",
              "    </tr>\n",
              "    <tr>\n",
              "      <th>3</th>\n",
              "      <td>3</td>\n",
              "      <td>Spring is here, and you know what that means –...</td>\n",
              "      <td>FanBlade Cleaner</td>\n",
              "      <td>https://stories.inventhelp.com/fanblade-cleaner/</td>\n",
              "    </tr>\n",
              "    <tr>\n",
              "      <th>4</th>\n",
              "      <td>4</td>\n",
              "      <td>When widower Paul Donnelly lost his wife he be...</td>\n",
              "      <td>Angelicare</td>\n",
              "      <td>https://stories.inventhelp.com/angelicare/</td>\n",
              "    </tr>\n",
              "    <tr>\n",
              "      <th>5</th>\n",
              "      <td>5</td>\n",
              "      <td>NaN</td>\n",
              "      <td>Side Sleeper Pro Air</td>\n",
              "      <td>https://stories.inventhelp.com/side-sleeper-pr...</td>\n",
              "    </tr>\n",
              "    <tr>\n",
              "      <th>6</th>\n",
              "      <td>6</td>\n",
              "      <td>When the check comes at a restaurant, do you f...</td>\n",
              "      <td>Tip ‘n Split</td>\n",
              "      <td>https://stories.inventhelp.com/tip-n-split/</td>\n",
              "    </tr>\n",
              "    <tr>\n",
              "      <th>7</th>\n",
              "      <td>7</td>\n",
              "      <td>Retired teacher, Barbara Winfield, wanted a be...</td>\n",
              "      <td>Perfect Pan</td>\n",
              "      <td>https://stories.inventhelp.com/barbara-winfiel...</td>\n",
              "    </tr>\n",
              "    <tr>\n",
              "      <th>8</th>\n",
              "      <td>8</td>\n",
              "      <td>While this winter season has been brutally col...</td>\n",
              "      <td>Melon Saver Support System</td>\n",
              "      <td>https://stories.inventhelp.com/protect-fruit-v...</td>\n",
              "    </tr>\n",
              "    <tr>\n",
              "      <th>9</th>\n",
              "      <td>9</td>\n",
              "      <td>Since the first prototype of the computer mous...</td>\n",
              "      <td>Digitz® EZmouse</td>\n",
              "      <td>https://stories.inventhelp.com/digitz-ezmouse-2/</td>\n",
              "    </tr>\n",
              "    <tr>\n",
              "      <th>10</th>\n",
              "      <td>10</td>\n",
              "      <td>Plumbers and home handymen face a common probl...</td>\n",
              "      <td>Twist-N-Set</td>\n",
              "      <td>https://stories.inventhelp.com/twist-n-set/</td>\n",
              "    </tr>\n",
              "    <tr>\n",
              "      <th>11</th>\n",
              "      <td>11</td>\n",
              "      <td>An InventHelp client’s invention, Pen Wrestler...</td>\n",
              "      <td>Talking Pen Wrestlers</td>\n",
              "      <td>https://stories.inventhelp.com/talking-pen-wre...</td>\n",
              "    </tr>\n",
              "    <tr>\n",
              "      <th>12</th>\n",
              "      <td>12</td>\n",
              "      <td>An InventHelp client’s invention, Collide O’Cu...</td>\n",
              "      <td>Collide O’Cubes</td>\n",
              "      <td>https://stories.inventhelp.com/collide-ocubes/</td>\n",
              "    </tr>\n",
              "    <tr>\n",
              "      <th>13</th>\n",
              "      <td>13</td>\n",
              "      <td>An InventHelp client’s invention was recently ...</td>\n",
              "      <td>Install-A-Door</td>\n",
              "      <td>https://stories.inventhelp.com/install-a-door/</td>\n",
              "    </tr>\n",
              "    <tr>\n",
              "      <th>14</th>\n",
              "      <td>14</td>\n",
              "      <td>Perhaps nothing inspires inventors more than i...</td>\n",
              "      <td>Weed Thrasher™</td>\n",
              "      <td>https://stories.inventhelp.com/weed-thrasher/</td>\n",
              "    </tr>\n",
              "    <tr>\n",
              "      <th>15</th>\n",
              "      <td>15</td>\n",
              "      <td>Years ago, Canadian inventor Peter Bryant’s in...</td>\n",
              "      <td>Maxi-Edge</td>\n",
              "      <td>https://stories.inventhelp.com/maxi-edge/</td>\n",
              "    </tr>\n",
              "    <tr>\n",
              "      <th>16</th>\n",
              "      <td>16</td>\n",
              "      <td>For Indianapolis inventor Carmen Davis, her id...</td>\n",
              "      <td>Magnetic Staple Remover</td>\n",
              "      <td>https://stories.inventhelp.com/magnetic-staple...</td>\n",
              "    </tr>\n",
              "    <tr>\n",
              "      <th>17</th>\n",
              "      <td>17</td>\n",
              "      <td>InventHelp clients, Steve and Jeff Rehkemper, ...</td>\n",
              "      <td>AquaSonic Brush ‘N Spray</td>\n",
              "      <td>https://stories.inventhelp.com/aquasonic-brush...</td>\n",
              "    </tr>\n",
              "    <tr>\n",
              "      <th>18</th>\n",
              "      <td>18</td>\n",
              "      <td>Any person who has ever tossed a Frisbee®, rod...</td>\n",
              "      <td>Wham-O Splash Wash</td>\n",
              "      <td>https://stories.inventhelp.com/wham-o-toys-spl...</td>\n",
              "    </tr>\n",
              "    <tr>\n",
              "      <th>19</th>\n",
              "      <td>19</td>\n",
              "      <td>The Half Time Drill Driver, an InventHelp lice...</td>\n",
              "      <td>Half Time Drill Driver</td>\n",
              "      <td>https://stories.inventhelp.com/half-time-drill...</td>\n",
              "    </tr>\n",
              "    <tr>\n",
              "      <th>20</th>\n",
              "      <td>20</td>\n",
              "      <td>InventHelp is pleased to announce that one of ...</td>\n",
              "      <td>Prep Guard Kitchen Aid</td>\n",
              "      <td>https://stories.inventhelp.com/prep-guard-kitc...</td>\n",
              "    </tr>\n",
              "  </tbody>\n",
              "</table>\n",
              "</div>"
            ],
            "text/plain": [
              "    Unnamed: 0  ...                                           IdeaLink\n",
              "0            0  ...  https://stories.inventhelp.com/pikes-buck-tail...\n",
              "1            1  ...  https://stories.inventhelp.com/lenart-trimmold...\n",
              "2            2  ...  https://stories.inventhelp.com/toilet-seat-hol...\n",
              "3            3  ...   https://stories.inventhelp.com/fanblade-cleaner/\n",
              "4            4  ...         https://stories.inventhelp.com/angelicare/\n",
              "5            5  ...  https://stories.inventhelp.com/side-sleeper-pr...\n",
              "6            6  ...        https://stories.inventhelp.com/tip-n-split/\n",
              "7            7  ...  https://stories.inventhelp.com/barbara-winfiel...\n",
              "8            8  ...  https://stories.inventhelp.com/protect-fruit-v...\n",
              "9            9  ...   https://stories.inventhelp.com/digitz-ezmouse-2/\n",
              "10          10  ...        https://stories.inventhelp.com/twist-n-set/\n",
              "11          11  ...  https://stories.inventhelp.com/talking-pen-wre...\n",
              "12          12  ...     https://stories.inventhelp.com/collide-ocubes/\n",
              "13          13  ...     https://stories.inventhelp.com/install-a-door/\n",
              "14          14  ...      https://stories.inventhelp.com/weed-thrasher/\n",
              "15          15  ...          https://stories.inventhelp.com/maxi-edge/\n",
              "16          16  ...  https://stories.inventhelp.com/magnetic-staple...\n",
              "17          17  ...  https://stories.inventhelp.com/aquasonic-brush...\n",
              "18          18  ...  https://stories.inventhelp.com/wham-o-toys-spl...\n",
              "19          19  ...  https://stories.inventhelp.com/half-time-drill...\n",
              "20          20  ...  https://stories.inventhelp.com/prep-guard-kitc...\n",
              "\n",
              "[21 rows x 4 columns]"
            ]
          },
          "metadata": {
            "tags": []
          },
          "execution_count": 64
        }
      ]
    },
    {
      "cell_type": "code",
      "metadata": {
        "id": "X9KPzsouAAPD",
        "colab_type": "code",
        "colab": {
          "base_uri": "https://localhost:8080/",
          "height": 54
        },
        "outputId": "74b0383c-5547-478a-b2f9-49d0dd6d28e7"
      },
      "source": [
        "df['IdeaDescription'][1]"
      ],
      "execution_count": 63,
      "outputs": [
        {
          "output_type": "execute_result",
          "data": {
            "text/plain": [
              "'InventHelp-Intromark is pleased to announce that the Lenart Trim/Molding Puller is now available for purchase at select Lowe’s\\xa0and The Home Depot stores, as well as on The Home Depot and Walmart websites. These international brands are recognized throughout the world as leaders in the consumer goods and hardware and tools industries. Combined, these stores and websites receive millions of visitors per month.'"
            ]
          },
          "metadata": {
            "tags": []
          },
          "execution_count": 63
        }
      ]
    },
    {
      "cell_type": "code",
      "metadata": {
        "id": "KMuKzcbZQ8cR",
        "colab_type": "code",
        "outputId": "a8e2f235-6368-4b08-d437-d079dc6d1c77",
        "colab": {
          "base_uri": "https://localhost:8080/",
          "height": 34
        }
      },
      "source": [
        "url = 'https://stories.inventhelp.com/'\n",
        "response = requests.get(url)\n",
        "response"
      ],
      "execution_count": 3,
      "outputs": [
        {
          "output_type": "execute_result",
          "data": {
            "text/plain": [
              "<Response [200]>"
            ]
          },
          "metadata": {
            "tags": []
          },
          "execution_count": 3
        }
      ]
    },
    {
      "cell_type": "code",
      "metadata": {
        "id": "zMe0WRSXNeKS",
        "colab_type": "code",
        "colab": {}
      },
      "source": [
        "soup = BeautifulSoup(response.text, \"html.parser\")"
      ],
      "execution_count": 0,
      "outputs": []
    },
    {
      "cell_type": "code",
      "metadata": {
        "id": "SPaWnCyey6Qz",
        "colab_type": "code",
        "outputId": "839edc57-0c17-411b-b141-423f54d8af45",
        "colab": {
          "base_uri": "https://localhost:8080/",
          "height": 34
        }
      },
      "source": [
        "one_a_tag = soup.findAll(\"a\", {\"class\": \"view-article buttonSm\"})\n",
        "link = one_a_tag[1]['href']\n",
        "link\n",
        "# for j in range(0,len(one_a_tag)):\n",
        "#     link = one_a_tag[j]['href']\n",
        "#     print(j , \"----\" , link)\n",
        "# one_a_tag[1].getText()"
      ],
      "execution_count": 10,
      "outputs": [
        {
          "output_type": "execute_result",
          "data": {
            "text/plain": [
              "'https://stories.inventhelp.com/lenart-trimmolding-puller/'"
            ]
          },
          "metadata": {
            "tags": []
          },
          "execution_count": 10
        }
      ]
    },
    {
      "cell_type": "code",
      "metadata": {
        "id": "MSyJ6wdvKY2A",
        "colab_type": "code",
        "colab": {
          "base_uri": "https://localhost:8080/",
          "height": 34
        },
        "outputId": "785d4c00-dde5-4439-dc17-69cf9b5683cd"
      },
      "source": [
        "print(len(one_a_tag))"
      ],
      "execution_count": 7,
      "outputs": [
        {
          "output_type": "stream",
          "text": [
            "10\n"
          ],
          "name": "stdout"
        }
      ]
    },
    {
      "cell_type": "code",
      "metadata": {
        "id": "Kh1-lpnezKk6",
        "colab_type": "code",
        "colab": {}
      },
      "source": [
        "\n",
        "story_url = link\n",
        "story_response = requests.get(story_url)\n",
        "story_soup = BeautifulSoup(story_response.text, \"html.parser\")"
      ],
      "execution_count": 0,
      "outputs": []
    },
    {
      "cell_type": "code",
      "metadata": {
        "id": "4GIx5Pzo2ul4",
        "colab_type": "code",
        "outputId": "6ac05ac9-4d59-4293-953b-22ab7083cdbf",
        "colab": {
          "base_uri": "https://localhost:8080/",
          "height": 34
        }
      },
      "source": [
        "story_soup.find_all('h1')[0].getText()"
      ],
      "execution_count": 22,
      "outputs": [
        {
          "output_type": "execute_result",
          "data": {
            "text/plain": [
              "'Lenart Trim/Molding Puller'"
            ]
          },
          "metadata": {
            "tags": []
          },
          "execution_count": 22
        }
      ]
    },
    {
      "cell_type": "code",
      "metadata": {
        "id": "NxCfgOCrEk6N",
        "colab_type": "code",
        "outputId": "a1f674c3-9dfe-4b94-bda0-2960303cf4d7",
        "colab": {
          "base_uri": "https://localhost:8080/",
          "height": 224
        }
      },
      "source": [
        "for p in story_soup.find_all('p')[3:-3]:\n",
        "  print(p.text)"
      ],
      "execution_count": 0,
      "outputs": [
        {
          "output_type": "stream",
          "text": [
            "While this winter season has been brutally cold for many regions with record-breaking snowfall and wide-spread disruption, it’s worth remembering that gardening season is not that far away.\n",
            "And if anyone knows the ravages of cold weather, it’s InventHelp client Chris Bosse.  The former Minnesota Department of Transportation snowplow operator, however, is now best known for her invention Melon Saver – a support system that protects fruit and vegetables from rotting.\n",
            "Bosse’s invention was recently licensed by Intromark Incorporated, InventHelp’s sister licensing company to NCS Media Group, a company that manufacturers lawn and garden products. In addition, due to InventHelp’s discretionary services, the company helped Bosse receive price quotes from two manufacturing companies and produced environmental graphics for her display at the Electronic Retailing Association’s annual Convention in Las Vegas.\n",
            "The Melon Saver combines traditional garden growing practices with ingenuity and color. It is a small and sturdy recycled plastic support stand that is light-weight, durable and available in several attractive colors.   It measures 10 inches long, 5 inches in diameter and features a grate on its top surface to allow air to circulate around the fruit and also facilitates water run-off without pooling, helping to prevent rot from setting in on your produce.\n",
            "“I came up with this idea as a first-time gardener after finding all the melons I had planted had rotted on the bottom,” said Bosse.\n",
            "Simply place the Melon Saver fruit and vegetable supports under the vegetable or fruit when it is still young.  The concave surface cradles the produce as it grows.\n",
            "“I’ve seen fruit in the grocery stores with one side discolored, which is not appealing at all,” said Bosse.  “That fruit is passed over by many consumers and often ends up being wasted.”\n",
            "Bill Ulrich, a former co-worker of Bosse tried the Melon Saver for his own garden.  He found that his watermelons ripened without blemishes.  Because of the Melon Saver design, fruit flies, grubs and other bugs are not attracted to the fruit as there’s no rotting, which can be common in home-grown fruit.\n",
            "Now living in Oregon, Bosse has found plenty of uses for the Melon Saver during the growing season and the off-season.  When the growing season is over, rinse the stand or use it in the kitchen to keep tomato bottoms from getting squishy, or flip the stand over to rinse berries and other fruits and vegetables.\n",
            "Depending on what U.S. Department of Agriculture “plant hardiness” zone one lives in, gardeners are already planning their vegetable plots and are eager to get started.\n",
            "This inventor has not made a financial gain with their invention.\n"
          ],
          "name": "stdout"
        }
      ]
    }
  ]
}